{
 "cells": [
  {
   "cell_type": "markdown",
   "metadata": {},
   "source": [
    "# Language Enhancements"
   ]
  },
  {
   "cell_type": "code",
   "execution_count": null,
   "metadata": {},
   "outputs": [],
   "source": []
  },
  {
   "cell_type": "markdown",
   "metadata": {},
   "source": [
    "## c# 8.0"
   ]
  },
  {
   "cell_type": "markdown",
   "metadata": {},
   "source": [
    "###  `readonly` instance member\n",
    "\n",
    "Allow a user to modify a member of `struct` to be `readonly`, and itself doesn't modify the state of the instance."
   ]
  },
  {
   "cell_type": "code",
   "execution_count": 7,
   "metadata": {},
   "outputs": [
    {
     "name": "stdout",
     "output_type": "stream",
     "text": [
      "900.0\n"
     ]
    }
   ],
   "source": [
    "using System;\n",
    "\n",
    "public struct ReadonlyInstanceMember\n",
    "{\n",
    "    public decimal Salary { get; }\n",
    "    private const decimal taxRate = 0.3m;\n",
    "\n",
    "    public ReadonlyInstanceMember(decimal salary)\n",
    "    {\n",
    "        Salary = salary;\n",
    "    }\n",
    "\n",
    "    public readonly decimal PayTax => Salary * taxRate;\n",
    "}\n",
    "\n",
    "\n",
    "Console.WriteLine(new ReadonlyInstanceMember(3000m).PayTax);"
   ]
  },
  {
   "cell_type": "code",
   "execution_count": null,
   "metadata": {},
   "outputs": [],
   "source": []
  }
 ],
 "metadata": {
  "kernelspec": {
   "display_name": ".NET (C#)",
   "language": "C#",
   "name": ".net-csharp"
  },
  "language_info": {
   "file_extension": ".cs",
   "mimetype": "text/x-csharp",
   "name": "C#",
   "pygments_lexer": "csharp",
   "version": "8.0"
  }
 },
 "nbformat": 4,
 "nbformat_minor": 4
}
